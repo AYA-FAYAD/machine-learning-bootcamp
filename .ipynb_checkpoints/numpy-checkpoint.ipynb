{
 "cells": [
  {
   "cell_type": "code",
   "execution_count": 2,
   "id": "8723b3a4",
   "metadata": {},
   "outputs": [],
   "source": [
    "import pandas as pd\n",
    "import numpy as np"
   ]
  },
  {
   "cell_type": "markdown",
   "id": "9af00473",
   "metadata": {},
   "source": [
    "## Data Type & Attributes"
   ]
  },
  {
   "cell_type": "code",
   "execution_count": 3,
   "id": "11dd2729",
   "metadata": {},
   "outputs": [
    {
     "data": {
      "text/plain": [
       "array([1, 2, 3, 4])"
      ]
     },
     "execution_count": 3,
     "metadata": {},
     "output_type": "execute_result"
    }
   ],
   "source": [
    "a1=np.array([1,2,3,4])\n",
    "a1"
   ]
  },
  {
   "cell_type": "code",
   "execution_count": 4,
   "id": "3bf5c8e3",
   "metadata": {},
   "outputs": [
    {
     "data": {
      "text/plain": [
       "numpy.ndarray"
      ]
     },
     "execution_count": 4,
     "metadata": {},
     "output_type": "execute_result"
    }
   ],
   "source": [
    "type(a1)"
   ]
  },
  {
   "cell_type": "code",
   "execution_count": 5,
   "id": "b8f5bed4",
   "metadata": {},
   "outputs": [],
   "source": [
    "a2=np.array([[1,2.0,3.3],[4,5,6.5]])\n",
    "\n",
    "a3=np.array([[[1,2,3],\n",
    "               [4,5,6],\n",
    "               [7,8,9]],\n",
    "              [[10,11,12],\n",
    "                [13,14,15],\n",
    "                [16,17,18]]])"
   ]
  },
  {
   "cell_type": "code",
   "execution_count": 6,
   "id": "c8ebe7ca",
   "metadata": {},
   "outputs": [
    {
     "data": {
      "text/plain": [
       "array([[1. , 2. , 3.3],\n",
       "       [4. , 5. , 6.5]])"
      ]
     },
     "execution_count": 6,
     "metadata": {},
     "output_type": "execute_result"
    }
   ],
   "source": [
    "a2"
   ]
  },
  {
   "cell_type": "code",
   "execution_count": 7,
   "id": "08419a64",
   "metadata": {},
   "outputs": [
    {
     "data": {
      "text/plain": [
       "array([[[ 1,  2,  3],\n",
       "        [ 4,  5,  6],\n",
       "        [ 7,  8,  9]],\n",
       "\n",
       "       [[10, 11, 12],\n",
       "        [13, 14, 15],\n",
       "        [16, 17, 18]]])"
      ]
     },
     "execution_count": 7,
     "metadata": {},
     "output_type": "execute_result"
    }
   ],
   "source": [
    "a3"
   ]
  },
  {
   "cell_type": "code",
   "execution_count": 8,
   "id": "7e4ee9b1",
   "metadata": {},
   "outputs": [
    {
     "data": {
      "text/plain": [
       "(4,)"
      ]
     },
     "execution_count": 8,
     "metadata": {},
     "output_type": "execute_result"
    }
   ],
   "source": [
    "a1.shape"
   ]
  },
  {
   "cell_type": "code",
   "execution_count": 9,
   "id": "e6f8a724",
   "metadata": {},
   "outputs": [
    {
     "data": {
      "text/plain": [
       "(2, 3)"
      ]
     },
     "execution_count": 9,
     "metadata": {},
     "output_type": "execute_result"
    }
   ],
   "source": [
    "a2.shape"
   ]
  },
  {
   "cell_type": "code",
   "execution_count": 10,
   "id": "17d2972c",
   "metadata": {},
   "outputs": [
    {
     "data": {
      "text/plain": [
       "(2, 3, 3)"
      ]
     },
     "execution_count": 10,
     "metadata": {},
     "output_type": "execute_result"
    }
   ],
   "source": [
    "a3.shape"
   ]
  },
  {
   "cell_type": "code",
   "execution_count": 11,
   "id": "c4ca6f29",
   "metadata": {},
   "outputs": [
    {
     "data": {
      "text/plain": [
       "(1, 2, 3)"
      ]
     },
     "execution_count": 11,
     "metadata": {},
     "output_type": "execute_result"
    }
   ],
   "source": [
    "a1.ndim, a2.ndim,a3.ndim"
   ]
  },
  {
   "cell_type": "code",
   "execution_count": 12,
   "id": "dadd2faa",
   "metadata": {},
   "outputs": [
    {
     "data": {
      "text/plain": [
       "(dtype('int32'), dtype('float64'), dtype('int32'))"
      ]
     },
     "execution_count": 12,
     "metadata": {},
     "output_type": "execute_result"
    }
   ],
   "source": [
    "a1.dtype,a2.dtype,a3.dtype"
   ]
  },
  {
   "cell_type": "code",
   "execution_count": 13,
   "id": "b8d535a4",
   "metadata": {},
   "outputs": [
    {
     "data": {
      "text/plain": [
       "(4, 6, 18)"
      ]
     },
     "execution_count": 13,
     "metadata": {},
     "output_type": "execute_result"
    }
   ],
   "source": [
    "a1.size,a2.size,a3.size"
   ]
  },
  {
   "cell_type": "code",
   "execution_count": 14,
   "id": "1088e078",
   "metadata": {},
   "outputs": [
    {
     "data": {
      "text/plain": [
       "(numpy.ndarray, numpy.ndarray, numpy.ndarray)"
      ]
     },
     "execution_count": 14,
     "metadata": {},
     "output_type": "execute_result"
    }
   ],
   "source": [
    "type(a1),type(a2),type(a3)"
   ]
  },
  {
   "cell_type": "code",
   "execution_count": 15,
   "id": "1de04aa1",
   "metadata": {},
   "outputs": [
    {
     "data": {
      "text/html": [
       "<div>\n",
       "<style scoped>\n",
       "    .dataframe tbody tr th:only-of-type {\n",
       "        vertical-align: middle;\n",
       "    }\n",
       "\n",
       "    .dataframe tbody tr th {\n",
       "        vertical-align: top;\n",
       "    }\n",
       "\n",
       "    .dataframe thead th {\n",
       "        text-align: right;\n",
       "    }\n",
       "</style>\n",
       "<table border=\"1\" class=\"dataframe\">\n",
       "  <thead>\n",
       "    <tr style=\"text-align: right;\">\n",
       "      <th></th>\n",
       "      <th>0</th>\n",
       "      <th>1</th>\n",
       "      <th>2</th>\n",
       "    </tr>\n",
       "  </thead>\n",
       "  <tbody>\n",
       "    <tr>\n",
       "      <th>0</th>\n",
       "      <td>1.0</td>\n",
       "      <td>2.0</td>\n",
       "      <td>3.3</td>\n",
       "    </tr>\n",
       "    <tr>\n",
       "      <th>1</th>\n",
       "      <td>4.0</td>\n",
       "      <td>5.0</td>\n",
       "      <td>6.5</td>\n",
       "    </tr>\n",
       "  </tbody>\n",
       "</table>\n",
       "</div>"
      ],
      "text/plain": [
       "     0    1    2\n",
       "0  1.0  2.0  3.3\n",
       "1  4.0  5.0  6.5"
      ]
     },
     "execution_count": 15,
     "metadata": {},
     "output_type": "execute_result"
    }
   ],
   "source": [
    "#creat a Datafram from a numpy array \n",
    "df=pd.DataFrame(a2)\n",
    "df"
   ]
  },
  {
   "cell_type": "markdown",
   "id": "c52c8226",
   "metadata": {},
   "source": [
    "## creating arryas"
   ]
  },
  {
   "cell_type": "code",
   "execution_count": 16,
   "id": "f2b674c8",
   "metadata": {},
   "outputs": [
    {
     "data": {
      "text/plain": [
       "array([1, 2, 3])"
      ]
     },
     "execution_count": 16,
     "metadata": {},
     "output_type": "execute_result"
    }
   ],
   "source": [
    "sampl_arry=np.array([1,2,3])\n",
    "sampl_arry"
   ]
  },
  {
   "cell_type": "code",
   "execution_count": 17,
   "id": "efa66da7",
   "metadata": {},
   "outputs": [
    {
     "data": {
      "text/plain": [
       "dtype('int32')"
      ]
     },
     "execution_count": 17,
     "metadata": {},
     "output_type": "execute_result"
    }
   ],
   "source": [
    "sampl_arry.dtype"
   ]
  },
  {
   "cell_type": "code",
   "execution_count": 18,
   "id": "8c4f3e16",
   "metadata": {},
   "outputs": [],
   "source": [
    "ones=np.ones((2,3))"
   ]
  },
  {
   "cell_type": "code",
   "execution_count": 19,
   "id": "a5be7fe1",
   "metadata": {},
   "outputs": [
    {
     "data": {
      "text/plain": [
       "array([[1., 1., 1.],\n",
       "       [1., 1., 1.]])"
      ]
     },
     "execution_count": 19,
     "metadata": {},
     "output_type": "execute_result"
    }
   ],
   "source": [
    "ones"
   ]
  },
  {
   "cell_type": "code",
   "execution_count": 20,
   "id": "94f62e31",
   "metadata": {},
   "outputs": [
    {
     "data": {
      "text/plain": [
       "dtype('float64')"
      ]
     },
     "execution_count": 20,
     "metadata": {},
     "output_type": "execute_result"
    }
   ],
   "source": [
    "ones.dtype"
   ]
  },
  {
   "cell_type": "code",
   "execution_count": 21,
   "id": "9dee0da4",
   "metadata": {},
   "outputs": [
    {
     "data": {
      "text/plain": [
       "numpy.ndarray"
      ]
     },
     "execution_count": 21,
     "metadata": {},
     "output_type": "execute_result"
    }
   ],
   "source": [
    "type(ones)"
   ]
  },
  {
   "cell_type": "code",
   "execution_count": 22,
   "id": "705bb8c2",
   "metadata": {},
   "outputs": [],
   "source": [
    "zero=np.zeros((2,3))"
   ]
  },
  {
   "cell_type": "code",
   "execution_count": 23,
   "id": "ab1aac27",
   "metadata": {},
   "outputs": [
    {
     "data": {
      "text/plain": [
       "array([[0., 0., 0.],\n",
       "       [0., 0., 0.]])"
      ]
     },
     "execution_count": 23,
     "metadata": {},
     "output_type": "execute_result"
    }
   ],
   "source": [
    "zero"
   ]
  },
  {
   "cell_type": "code",
   "execution_count": 24,
   "id": "a190a625",
   "metadata": {},
   "outputs": [
    {
     "data": {
      "text/plain": [
       "array([0, 2, 4, 6, 8])"
      ]
     },
     "execution_count": 24,
     "metadata": {},
     "output_type": "execute_result"
    }
   ],
   "source": [
    "range_arry=np.arange(0,10,2)\n",
    "range_arry"
   ]
  },
  {
   "cell_type": "code",
   "execution_count": 25,
   "id": "e8a0b11a",
   "metadata": {},
   "outputs": [
    {
     "data": {
      "text/plain": [
       "array([[1, 7, 6, 2, 6],\n",
       "       [1, 5, 7, 5, 4],\n",
       "       [3, 7, 2, 8, 8]])"
      ]
     },
     "execution_count": 25,
     "metadata": {},
     "output_type": "execute_result"
    }
   ],
   "source": [
    "random_arry=np.random.randint(1,10,size =(3 , 5))\n",
    "random_arry"
   ]
  },
  {
   "cell_type": "code",
   "execution_count": 26,
   "id": "43e40982",
   "metadata": {},
   "outputs": [
    {
     "data": {
      "text/plain": [
       "15"
      ]
     },
     "execution_count": 26,
     "metadata": {},
     "output_type": "execute_result"
    }
   ],
   "source": [
    "random_arry.size"
   ]
  },
  {
   "cell_type": "code",
   "execution_count": 27,
   "id": "ee62d359",
   "metadata": {},
   "outputs": [
    {
     "data": {
      "text/plain": [
       "(3, 5)"
      ]
     },
     "execution_count": 27,
     "metadata": {},
     "output_type": "execute_result"
    }
   ],
   "source": [
    "random_arry.shape"
   ]
  },
  {
   "cell_type": "code",
   "execution_count": 28,
   "id": "5bb8960a",
   "metadata": {},
   "outputs": [
    {
     "data": {
      "text/plain": [
       "array([[0.60082167, 0.26561002, 0.01904489],\n",
       "       [0.74134173, 0.55731611, 0.90014095],\n",
       "       [0.69900664, 0.02040652, 0.95015889],\n",
       "       [0.59195385, 0.14408673, 0.4562164 ],\n",
       "       [0.57294476, 0.20893039, 0.13006194]])"
      ]
     },
     "execution_count": 28,
     "metadata": {},
     "output_type": "execute_result"
    }
   ],
   "source": [
    "random_arry2=np.random.random((5,3))\n",
    "random_arry2"
   ]
  },
  {
   "cell_type": "code",
   "execution_count": 29,
   "id": "f65a54c7",
   "metadata": {},
   "outputs": [
    {
     "data": {
      "text/plain": [
       "(5, 3)"
      ]
     },
     "execution_count": 29,
     "metadata": {},
     "output_type": "execute_result"
    }
   ],
   "source": [
    "random_arry2.shape"
   ]
  },
  {
   "cell_type": "code",
   "execution_count": 30,
   "id": "751f9088",
   "metadata": {},
   "outputs": [
    {
     "data": {
      "text/plain": [
       "array([[5.43915292e-01, 9.24646338e-01, 2.63451845e-01],\n",
       "       [2.99799472e-01, 2.34044676e-01, 5.19695141e-01],\n",
       "       [1.50190871e-01, 2.06718767e-01, 7.09257123e-01],\n",
       "       [7.69064182e-01, 5.35140466e-01, 2.71949872e-04],\n",
       "       [6.82761606e-01, 7.47840678e-01, 5.32978984e-01]])"
      ]
     },
     "execution_count": 30,
     "metadata": {},
     "output_type": "execute_result"
    }
   ],
   "source": [
    "random_arry3=np.random.rand(5,3)\n",
    "random_arry3"
   ]
  },
  {
   "cell_type": "code",
   "execution_count": 31,
   "id": "8ded7c39",
   "metadata": {},
   "outputs": [
    {
     "data": {
      "text/plain": [
       "array([[5, 0, 3],\n",
       "       [3, 7, 9],\n",
       "       [3, 5, 2],\n",
       "       [4, 7, 6],\n",
       "       [8, 8, 1]])"
      ]
     },
     "execution_count": 31,
     "metadata": {},
     "output_type": "execute_result"
    }
   ],
   "source": [
    "#pseudo-random number\n",
    "np.random.seed(seed=0)\n",
    "random_array_4 =np.random.randint(10,size=(5,3))\n",
    "random_array_4 "
   ]
  },
  {
   "cell_type": "code",
   "execution_count": 32,
   "id": "f6362852",
   "metadata": {},
   "outputs": [
    {
     "data": {
      "text/plain": [
       "array([[0.09310829, 0.97165592, 0.48385998],\n",
       "       [0.2425227 , 0.53112383, 0.28554424],\n",
       "       [0.86263038, 0.04110015, 0.10834773],\n",
       "       [0.76716005, 0.05142871, 0.77571654],\n",
       "       [0.00913894, 0.61831211, 0.81870933]])"
      ]
     },
     "execution_count": 32,
     "metadata": {},
     "output_type": "execute_result"
    }
   ],
   "source": [
    "np.random.seed(55)\n",
    "random_arry5= np.random.random((5,3))\n",
    "random_arry5"
   ]
  },
  {
   "cell_type": "code",
   "execution_count": 33,
   "id": "e804c529",
   "metadata": {},
   "outputs": [
    {
     "data": {
      "text/plain": [
       "array([[0.89858572, 0.98561158, 0.49674492],\n",
       "       [0.35231893, 0.86708499, 0.39688175],\n",
       "       [0.64365722, 0.02045331, 0.80808454],\n",
       "       [0.4296133 , 0.55854652, 0.77911129],\n",
       "       [0.40255712, 0.90799492, 0.64996961]])"
      ]
     },
     "execution_count": 33,
     "metadata": {},
     "output_type": "execute_result"
    }
   ],
   "source": [
    "random_arry5= np.random.random((5,3))\n",
    "random_arry5"
   ]
  },
  {
   "cell_type": "markdown",
   "id": "701e91dd",
   "metadata": {},
   "source": [
    "## 3. viewing arrays and matrics"
   ]
  },
  {
   "cell_type": "code",
   "execution_count": 34,
   "id": "4a43a7f2",
   "metadata": {},
   "outputs": [
    {
     "data": {
      "text/plain": [
       "(5, 3)"
      ]
     },
     "execution_count": 34,
     "metadata": {},
     "output_type": "execute_result"
    }
   ],
   "source": [
    "random_array_4.shape\n"
   ]
  },
  {
   "cell_type": "code",
   "execution_count": 35,
   "id": "33a6b0f4",
   "metadata": {},
   "outputs": [
    {
     "data": {
      "text/plain": [
       "array([[5, 0, 3],\n",
       "       [3, 7, 9],\n",
       "       [3, 5, 2],\n",
       "       [4, 7, 6],\n",
       "       [8, 8, 1]])"
      ]
     },
     "execution_count": 35,
     "metadata": {},
     "output_type": "execute_result"
    }
   ],
   "source": [
    "random_array_4"
   ]
  },
  {
   "cell_type": "code",
   "execution_count": 36,
   "id": "76b65f11",
   "metadata": {},
   "outputs": [
    {
     "data": {
      "text/plain": [
       "array([0, 1, 2, 3, 4, 5, 6, 7, 8, 9])"
      ]
     },
     "execution_count": 36,
     "metadata": {},
     "output_type": "execute_result"
    }
   ],
   "source": [
    "np.unique(random_array_4)"
   ]
  },
  {
   "cell_type": "code",
   "execution_count": 37,
   "id": "9e0ec9b7",
   "metadata": {},
   "outputs": [
    {
     "data": {
      "text/plain": [
       "array([1, 2, 3, 4])"
      ]
     },
     "execution_count": 37,
     "metadata": {},
     "output_type": "execute_result"
    }
   ],
   "source": [
    "a1"
   ]
  },
  {
   "cell_type": "code",
   "execution_count": 38,
   "id": "2836d710",
   "metadata": {},
   "outputs": [
    {
     "data": {
      "text/plain": [
       "1"
      ]
     },
     "execution_count": 38,
     "metadata": {},
     "output_type": "execute_result"
    }
   ],
   "source": [
    "a1[0]"
   ]
  },
  {
   "cell_type": "code",
   "execution_count": 39,
   "id": "13570028",
   "metadata": {},
   "outputs": [
    {
     "data": {
      "text/plain": [
       "array([[[ 1,  2,  3],\n",
       "        [ 4,  5,  6],\n",
       "        [ 7,  8,  9]],\n",
       "\n",
       "       [[10, 11, 12],\n",
       "        [13, 14, 15],\n",
       "        [16, 17, 18]]])"
      ]
     },
     "execution_count": 39,
     "metadata": {},
     "output_type": "execute_result"
    }
   ],
   "source": [
    "a3"
   ]
  },
  {
   "cell_type": "code",
   "execution_count": 40,
   "id": "58651fba",
   "metadata": {},
   "outputs": [
    {
     "data": {
      "text/plain": [
       "array([[1, 2, 3],\n",
       "       [4, 5, 6],\n",
       "       [7, 8, 9]])"
      ]
     },
     "execution_count": 40,
     "metadata": {},
     "output_type": "execute_result"
    }
   ],
   "source": [
    "a3[0]"
   ]
  },
  {
   "cell_type": "code",
   "execution_count": 41,
   "id": "2ef12c35",
   "metadata": {},
   "outputs": [
    {
     "data": {
      "text/plain": [
       "array([[[ 1,  2],\n",
       "        [ 4,  5]],\n",
       "\n",
       "       [[10, 11],\n",
       "        [13, 14]]])"
      ]
     },
     "execution_count": 41,
     "metadata": {},
     "output_type": "execute_result"
    }
   ],
   "source": [
    "a3[:2,:2,:2]"
   ]
  },
  {
   "cell_type": "code",
   "execution_count": 42,
   "id": "626cd6e0",
   "metadata": {},
   "outputs": [
    {
     "data": {
      "text/plain": [
       "array([[1. , 2. , 3.3],\n",
       "       [4. , 5. , 6.5]])"
      ]
     },
     "execution_count": 42,
     "metadata": {},
     "output_type": "execute_result"
    }
   ],
   "source": [
    "a2"
   ]
  },
  {
   "cell_type": "code",
   "execution_count": 43,
   "id": "66c99b27",
   "metadata": {},
   "outputs": [
    {
     "data": {
      "text/plain": [
       "array([1. , 2. , 3.3])"
      ]
     },
     "execution_count": 43,
     "metadata": {},
     "output_type": "execute_result"
    }
   ],
   "source": [
    "a2[0]"
   ]
  },
  {
   "cell_type": "code",
   "execution_count": 44,
   "id": "87507ddc",
   "metadata": {},
   "outputs": [
    {
     "data": {
      "text/plain": [
       "array([4. , 5. , 6.5])"
      ]
     },
     "execution_count": 44,
     "metadata": {},
     "output_type": "execute_result"
    }
   ],
   "source": [
    "a2[1]"
   ]
  },
  {
   "cell_type": "code",
   "execution_count": 45,
   "id": "db163676",
   "metadata": {},
   "outputs": [
    {
     "data": {
      "text/plain": [
       "array([[[[4, 9, 1, 8, 2],\n",
       "         [0, 7, 2, 8, 0],\n",
       "         [5, 6, 3, 8, 7],\n",
       "         [2, 1, 3, 5, 3]],\n",
       "\n",
       "        [[9, 2, 8, 0, 3],\n",
       "         [2, 1, 2, 0, 5],\n",
       "         [4, 3, 7, 4, 2],\n",
       "         [0, 8, 3, 0, 0]],\n",
       "\n",
       "        [[9, 4, 6, 9, 6],\n",
       "         [5, 3, 5, 1, 7],\n",
       "         [5, 9, 3, 6, 2],\n",
       "         [2, 6, 0, 8, 1]]],\n",
       "\n",
       "\n",
       "       [[[7, 2, 9, 1, 0],\n",
       "         [9, 1, 7, 1, 2],\n",
       "         [3, 4, 2, 7, 8],\n",
       "         [4, 3, 2, 4, 4]],\n",
       "\n",
       "        [[6, 6, 0, 2, 3],\n",
       "         [4, 2, 0, 8, 0],\n",
       "         [7, 4, 0, 9, 6],\n",
       "         [5, 4, 1, 1, 7]],\n",
       "\n",
       "        [[4, 4, 0, 8, 4],\n",
       "         [1, 9, 9, 2, 1],\n",
       "         [0, 7, 0, 9, 0],\n",
       "         [0, 9, 3, 6, 8]]]])"
      ]
     },
     "execution_count": 45,
     "metadata": {},
     "output_type": "execute_result"
    }
   ],
   "source": [
    "a4=np.random.randint(10,size=(2,3,4,5))\n",
    "a4"
   ]
  },
  {
   "cell_type": "code",
   "execution_count": 46,
   "id": "eaaf116c",
   "metadata": {},
   "outputs": [
    {
     "data": {
      "text/plain": [
       "((2, 3, 4, 5), 4)"
      ]
     },
     "execution_count": 46,
     "metadata": {},
     "output_type": "execute_result"
    }
   ],
   "source": [
    "a4.shape, a4.ndim"
   ]
  },
  {
   "cell_type": "code",
   "execution_count": 47,
   "id": "b10cf661",
   "metadata": {},
   "outputs": [
    {
     "data": {
      "text/plain": [
       "array([[[[4, 9, 1, 8],\n",
       "         [0, 7, 2, 8],\n",
       "         [5, 6, 3, 8],\n",
       "         [2, 1, 3, 5]],\n",
       "\n",
       "        [[9, 2, 8, 0],\n",
       "         [2, 1, 2, 0],\n",
       "         [4, 3, 7, 4],\n",
       "         [0, 8, 3, 0]],\n",
       "\n",
       "        [[9, 4, 6, 9],\n",
       "         [5, 3, 5, 1],\n",
       "         [5, 9, 3, 6],\n",
       "         [2, 6, 0, 8]]],\n",
       "\n",
       "\n",
       "       [[[7, 2, 9, 1],\n",
       "         [9, 1, 7, 1],\n",
       "         [3, 4, 2, 7],\n",
       "         [4, 3, 2, 4]],\n",
       "\n",
       "        [[6, 6, 0, 2],\n",
       "         [4, 2, 0, 8],\n",
       "         [7, 4, 0, 9],\n",
       "         [5, 4, 1, 1]],\n",
       "\n",
       "        [[4, 4, 0, 8],\n",
       "         [1, 9, 9, 2],\n",
       "         [0, 7, 0, 9],\n",
       "         [0, 9, 3, 6]]]])"
      ]
     },
     "execution_count": 47,
     "metadata": {},
     "output_type": "execute_result"
    }
   ],
   "source": [
    "a4[:2,:3,:,:4]"
   ]
  },
  {
   "cell_type": "code",
   "execution_count": 48,
   "id": "c3911dc5",
   "metadata": {},
   "outputs": [
    {
     "data": {
      "text/plain": [
       "array([[[[4, 9, 1, 8],\n",
       "         [0, 7, 2, 8],\n",
       "         [5, 6, 3, 8],\n",
       "         [2, 1, 3, 5]],\n",
       "\n",
       "        [[9, 2, 8, 0],\n",
       "         [2, 1, 2, 0],\n",
       "         [4, 3, 7, 4],\n",
       "         [0, 8, 3, 0]],\n",
       "\n",
       "        [[9, 4, 6, 9],\n",
       "         [5, 3, 5, 1],\n",
       "         [5, 9, 3, 6],\n",
       "         [2, 6, 0, 8]]],\n",
       "\n",
       "\n",
       "       [[[7, 2, 9, 1],\n",
       "         [9, 1, 7, 1],\n",
       "         [3, 4, 2, 7],\n",
       "         [4, 3, 2, 4]],\n",
       "\n",
       "        [[6, 6, 0, 2],\n",
       "         [4, 2, 0, 8],\n",
       "         [7, 4, 0, 9],\n",
       "         [5, 4, 1, 1]],\n",
       "\n",
       "        [[4, 4, 0, 8],\n",
       "         [1, 9, 9, 2],\n",
       "         [0, 7, 0, 9],\n",
       "         [0, 9, 3, 6]]]])"
      ]
     },
     "execution_count": 48,
     "metadata": {},
     "output_type": "execute_result"
    }
   ],
   "source": [
    "a4[:,:,:,:4]"
   ]
  },
  {
   "cell_type": "markdown",
   "id": "8859074d",
   "metadata": {},
   "source": [
    "## manipulating &comparing arrays1"
   ]
  },
  {
   "cell_type": "markdown",
   "id": "cb342783",
   "metadata": {},
   "source": [
    "## Arithmetic"
   ]
  },
  {
   "cell_type": "code",
   "execution_count": 49,
   "id": "fa762d21",
   "metadata": {},
   "outputs": [
    {
     "data": {
      "text/plain": [
       "array([1, 2, 3, 4])"
      ]
     },
     "execution_count": 49,
     "metadata": {},
     "output_type": "execute_result"
    }
   ],
   "source": [
    "a1\n"
   ]
  },
  {
   "cell_type": "code",
   "execution_count": 50,
   "id": "67b17e89",
   "metadata": {},
   "outputs": [
    {
     "data": {
      "text/plain": [
       "array([1., 1., 1., 1.])"
      ]
     },
     "execution_count": 50,
     "metadata": {},
     "output_type": "execute_result"
    }
   ],
   "source": [
    "ones= np.ones(4)\n",
    "ones"
   ]
  },
  {
   "cell_type": "code",
   "execution_count": 51,
   "id": "84d672ad",
   "metadata": {},
   "outputs": [
    {
     "data": {
      "text/plain": [
       "3.0"
      ]
     },
     "execution_count": 51,
     "metadata": {},
     "output_type": "execute_result"
    }
   ],
   "source": [
    "a1[1] + ones[0]\n"
   ]
  },
  {
   "cell_type": "code",
   "execution_count": 52,
   "id": "95dff268",
   "metadata": {},
   "outputs": [
    {
     "data": {
      "text/plain": [
       "array([0., 1., 2., 3.])"
      ]
     },
     "execution_count": 52,
     "metadata": {},
     "output_type": "execute_result"
    }
   ],
   "source": [
    " a1- ones"
   ]
  },
  {
   "cell_type": "code",
   "execution_count": 53,
   "id": "29f70a7a",
   "metadata": {},
   "outputs": [
    {
     "data": {
      "text/plain": [
       "array([1., 2., 3., 4.])"
      ]
     },
     "execution_count": 53,
     "metadata": {},
     "output_type": "execute_result"
    }
   ],
   "source": [
    "a1*ones"
   ]
  },
  {
   "cell_type": "code",
   "execution_count": 54,
   "id": "d0978c31",
   "metadata": {},
   "outputs": [
    {
     "data": {
      "text/plain": [
       "array([1., 2., 3., 4.])"
      ]
     },
     "execution_count": 54,
     "metadata": {},
     "output_type": "execute_result"
    }
   ],
   "source": [
    "a1/ones"
   ]
  },
  {
   "cell_type": "code",
   "execution_count": 55,
   "id": "714b55ce",
   "metadata": {},
   "outputs": [
    {
     "data": {
      "text/plain": [
       "array([1.        , 0.5       , 0.33333333, 0.25      ])"
      ]
     },
     "execution_count": 55,
     "metadata": {},
     "output_type": "execute_result"
    }
   ],
   "source": [
    "ones/a1"
   ]
  },
  {
   "cell_type": "code",
   "execution_count": 56,
   "id": "c5c90890",
   "metadata": {},
   "outputs": [
    {
     "data": {
      "text/plain": [
       "(2, 3)"
      ]
     },
     "execution_count": 56,
     "metadata": {},
     "output_type": "execute_result"
    }
   ],
   "source": [
    "a2.shape"
   ]
  },
  {
   "cell_type": "code",
   "execution_count": 57,
   "id": "0a73a86d",
   "metadata": {},
   "outputs": [],
   "source": [
    "b=2.0"
   ]
  },
  {
   "cell_type": "code",
   "execution_count": 58,
   "id": "1ed66251",
   "metadata": {},
   "outputs": [
    {
     "data": {
      "text/plain": [
       "array([[1. , 2. , 3.3],\n",
       "       [4. , 5. , 6.5]])"
      ]
     },
     "execution_count": 58,
     "metadata": {},
     "output_type": "execute_result"
    }
   ],
   "source": [
    "a2"
   ]
  },
  {
   "cell_type": "code",
   "execution_count": 59,
   "id": "15564e10",
   "metadata": {},
   "outputs": [
    {
     "data": {
      "text/plain": [
       "(2, 3, 3)"
      ]
     },
     "execution_count": 59,
     "metadata": {},
     "output_type": "execute_result"
    }
   ],
   "source": [
    "a3.shape"
   ]
  },
  {
   "cell_type": "code",
   "execution_count": 60,
   "id": "ee0ceaa4",
   "metadata": {},
   "outputs": [
    {
     "data": {
      "text/plain": [
       "array([[[ 1,  2,  3],\n",
       "        [ 4,  5,  6],\n",
       "        [ 7,  8,  9]],\n",
       "\n",
       "       [[10, 11, 12],\n",
       "        [13, 14, 15],\n",
       "        [16, 17, 18]]])"
      ]
     },
     "execution_count": 60,
     "metadata": {},
     "output_type": "execute_result"
    }
   ],
   "source": [
    "a3"
   ]
  },
  {
   "cell_type": "code",
   "execution_count": 61,
   "id": "1f1211c9",
   "metadata": {},
   "outputs": [],
   "source": [
    "#np.reshape(a2,(2,3))\n"
   ]
  },
  {
   "cell_type": "code",
   "execution_count": 62,
   "id": "fd05e749",
   "metadata": {},
   "outputs": [],
   "source": [
    "#a2*a3"
   ]
  },
  {
   "cell_type": "markdown",
   "id": "666c4304",
   "metadata": {},
   "source": [
    "### Aggregation \n",
    "\n",
    "Aggregation= performing the same opertion on number of thing"
   ]
  },
  {
   "cell_type": "code",
   "execution_count": 65,
   "id": "4b616394",
   "metadata": {},
   "outputs": [
    {
     "data": {
      "text/plain": [
       "list"
      ]
     },
     "execution_count": 65,
     "metadata": {},
     "output_type": "execute_result"
    }
   ],
   "source": [
    "list_list= [1,2,3]\n",
    "type(list_list)"
   ]
  },
  {
   "cell_type": "code",
   "execution_count": 69,
   "id": "5192ea15",
   "metadata": {},
   "outputs": [
    {
     "data": {
      "text/plain": [
       "6"
      ]
     },
     "execution_count": 69,
     "metadata": {},
     "output_type": "execute_result"
    }
   ],
   "source": [
    "sum(list_list)"
   ]
  },
  {
   "cell_type": "code",
   "execution_count": 67,
   "id": "d7a91924",
   "metadata": {},
   "outputs": [
    {
     "data": {
      "text/plain": [
       "array([1, 2, 3, 4])"
      ]
     },
     "execution_count": 67,
     "metadata": {},
     "output_type": "execute_result"
    }
   ],
   "source": [
    "a1"
   ]
  },
  {
   "cell_type": "code",
   "execution_count": 68,
   "id": "85a9ab07",
   "metadata": {},
   "outputs": [
    {
     "data": {
      "text/plain": [
       "numpy.ndarray"
      ]
     },
     "execution_count": 68,
     "metadata": {},
     "output_type": "execute_result"
    }
   ],
   "source": [
    "type(a1)"
   ]
  },
  {
   "cell_type": "code",
   "execution_count": null,
   "id": "c5ab9500",
   "metadata": {},
   "outputs": [],
   "source": []
  },
  {
   "cell_type": "code",
   "execution_count": null,
   "id": "17bb2e04",
   "metadata": {},
   "outputs": [],
   "source": []
  },
  {
   "cell_type": "code",
   "execution_count": null,
   "id": "7443ba4d",
   "metadata": {},
   "outputs": [],
   "source": []
  }
 ],
 "metadata": {
  "kernelspec": {
   "display_name": "Python 3 (ipykernel)",
   "language": "python",
   "name": "python3"
  },
  "language_info": {
   "codemirror_mode": {
    "name": "ipython",
    "version": 3
   },
   "file_extension": ".py",
   "mimetype": "text/x-python",
   "name": "python",
   "nbconvert_exporter": "python",
   "pygments_lexer": "ipython3",
   "version": "3.9.7"
  }
 },
 "nbformat": 4,
 "nbformat_minor": 5
}
